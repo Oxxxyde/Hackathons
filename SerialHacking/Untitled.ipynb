{
 "cells": [
  {
   "cell_type": "code",
   "execution_count": null,
   "metadata": {},
   "outputs": [],
   "source": [
    "import os\n",
    "import pandas as pd\n",
    "from sklearn import datasets\n",
    "from sklearn.model_selection import train_test_split\n",
    "import keras\n",
    "import tesorflow as tf\n",
    "\n",
    "\n",
    "class MyModel(tf.keras.Model):\n",
    "  def __init__(self):\n",
    "    super(MyModel, self).__init__()\n",
    "    self.dense1 = tf.keras.layers.Dense(4, activation=tf.nn.relu)\n",
    "    self.dense2 = tf.keras.layers.Dense(5, activation=tf.nn.softmax)\n",
    "\n",
    "tokenizer = tf.keras.preprocessing.text.Tokenizer(num_words=5000)\n",
    "tokenizer.fit_on_texts(texts)\n",
    "\n",
    "def splitTrainTest (data, testPercent):\n",
    "    trainData = [datatrain.csv]\n",
    "    testData  = [datatest.csv]\n",
    "    for row in data:\n",
    "        if random.random() < testPercent:\n",
    "            testData.append(row)\n",
    "        else:\n",
    "            trainData.append(row)\n",
    "    return trainData, testData \n",
    "\n",
    "#Calculate classification accuracy\n",
    "def calculateAccuracy (nClasses, nItemsInClass, k, testPercent):\n",
    "    data = generateData (nItemsInClass, nClasses)\n",
    "    trainData, testDataWithLabels = splitTrainTest (data, testPercent)\n",
    "    testData = [testDataWithLabels[i][0] for i in range(len(testDataWithLabels))]\n",
    "    testDataLabels = classifyKNN (trainData, testData, k, nClasses)\n",
    "    print \"Accuracy: \", sum([int(testDataLabels[i]==testDataWithLabels[i][1]) for i in range(len(testDataWithLabels))]) / float(len(testDataWithLabels))"
   ]
  }
 ],
 "metadata": {
  "kernelspec": {
   "display_name": "Python 3",
   "language": "python",
   "name": "python3"
  },
  "language_info": {
   "codemirror_mode": {
    "name": "ipython",
    "version": 3
   },
   "file_extension": ".py",
   "mimetype": "text/x-python",
   "name": "python",
   "nbconvert_exporter": "python",
   "pygments_lexer": "ipython3",
   "version": "3.7.0"
  }
 },
 "nbformat": 4,
 "nbformat_minor": 2
}
